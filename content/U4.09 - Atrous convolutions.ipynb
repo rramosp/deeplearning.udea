{
 "cells": [
  {
   "cell_type": "markdown",
   "metadata": {},
   "source": [
    "# 4.9 - Atrous convolutions"
   ]
  },
  {
   "cell_type": "code",
   "execution_count": 1,
   "metadata": {},
   "outputs": [],
   "source": [
    "!wget -nc --no-cache -O init.py -q https://raw.githubusercontent.com/rramosp/2021.deeplearning/main/content/init.py\n",
    "import init; init.init(force_download=False); "
   ]
  },
  {
   "cell_type": "code",
   "execution_count": 4,
   "metadata": {},
   "outputs": [
    {
     "name": "stdout",
     "output_type": "stream",
     "text": [
      "2.4.1\n"
     ]
    }
   ],
   "source": [
    "import numpy as np\n",
    "import tensorflow as tf\n",
    "import matplotlib.pyplot as plt\n",
    "import pandas as pd\n",
    "%matplotlib inline\n",
    "print (tf.__version__)\n",
    "\n",
    "def dilate(simg):\n",
    "    k = simg.copy()\n",
    "    for i in range(k.shape[1]-1):\n",
    "        k = np.insert(k, 1+2*i, values=0, axis=1)\n",
    "    for i in range(k.shape[0]-1):\n",
    "        k = np.insert(k, 1+2*i, values=0, axis=0)\n",
    "    return k"
   ]
  },
  {
   "cell_type": "markdown",
   "metadata": {},
   "source": [
    "See [Types of convolutions](https://medium.com/hitchhikers-guide-to-deep-learning/10-introduction-to-deep-learning-with-computer-vision-types-of-convolutions-atrous-convolutions-3cf142f77bc0) for a global view of how convolutions can be made in different ways.\n",
    "\n",
    "**Atrous convolutions** are done through dilation on the **filter** (not on the image as in transposed convolutions)\n",
    "\n",
    "This is implemented in the same `Conv2D` layer through the `dilation_rate` argument.\n",
    "\n",
    "The goal is that with the **same** filter, one could capture a larger **receptive field** and thus, doing an operation at a smaller resolution while keeping some detail."
   ]
  },
  {
   "cell_type": "code",
   "execution_count": 35,
   "metadata": {},
   "outputs": [],
   "source": [
    "simg = np.r_[[[4,5,8,7],[1,8,8,8],[3,6,6,4],[6,5,7,8]]].astype(np.float32)\n",
    "kernel = np.r_[[[10,-8],[15,-2]]]"
   ]
  },
  {
   "cell_type": "code",
   "execution_count": 36,
   "metadata": {},
   "outputs": [
    {
     "name": "stdout",
     "output_type": "stream",
     "text": [
      "filter\n",
      " [[10 -8]\n",
      " [15 -2]]\n",
      "dilated filter\n",
      " [[10  0 -8]\n",
      " [ 0  0  0]\n",
      " [15  0 -2]]\n"
     ]
    }
   ],
   "source": [
    "ddkernel = dilate(kernel)\n",
    "print (\"filter\\n\", kernel)\n",
    "print (\"dilated filter\\n\", ddkernel)"
   ]
  },
  {
   "cell_type": "markdown",
   "metadata": {},
   "source": [
    "regular convolution"
   ]
  },
  {
   "cell_type": "code",
   "execution_count": 37,
   "metadata": {},
   "outputs": [
    {
     "data": {
      "text/plain": [
       "array([[ -1.,  90., 128.],\n",
       "       [-21.,  94.,  98.],\n",
       "       [ 62.,  73., 117.]], dtype=float32)"
      ]
     },
     "execution_count": 37,
     "metadata": {},
     "output_type": "execute_result"
    }
   ],
   "source": [
    "c1 = tf.keras.layers.Conv2D(filters=1, kernel_size=kernel.shape, padding=\"VALID\", activation=\"linear\")\n",
    "c1.build(input_shape=[None, *simg[:,:,None].shape])\n",
    "c1.set_weights([kernel.T[:,:,None, None], np.r_[0]])\n",
    "c1(simg.T[None, :, :, None]).numpy().T[0,:,:,0]"
   ]
  },
  {
   "cell_type": "markdown",
   "metadata": {},
   "source": [
    "dilated convolution"
   ]
  },
  {
   "cell_type": "code",
   "execution_count": 38,
   "metadata": {},
   "outputs": [
    {
     "data": {
      "text/plain": [
       "array([[ 9., 76.],\n",
       "       [22., 75.]], dtype=float32)"
      ]
     },
     "execution_count": 38,
     "metadata": {},
     "output_type": "execute_result"
    }
   ],
   "source": [
    "c1 = tf.keras.layers.Conv2D(filters=1, kernel_size=ddkernel.shape, padding=\"VALID\", activation=\"linear\")\n",
    "c1.build(input_shape=[None, *simg[:,:,None].shape])\n",
    "c1.set_weights([ddkernel.T[:,:,None, None], np.r_[0]])\n",
    "c1(simg.T[None, :, :, None]).numpy().T[0,:,:,0]"
   ]
  },
  {
   "cell_type": "markdown",
   "metadata": {},
   "source": [
    "observe how the receptive field of the dilated filter (3z3) **is larger** than the original filter (2x2)"
   ]
  },
  {
   "cell_type": "code",
   "execution_count": 39,
   "metadata": {},
   "outputs": [
    {
     "data": {
      "text/plain": [
       "-1.0"
      ]
     },
     "execution_count": 39,
     "metadata": {},
     "output_type": "execute_result"
    }
   ],
   "source": [
    "(simg[:2,:2]*kernel).sum() # corresponds to the (0,0) regular convolution output"
   ]
  },
  {
   "cell_type": "code",
   "execution_count": 40,
   "metadata": {},
   "outputs": [
    {
     "data": {
      "text/plain": [
       "9.0"
      ]
     },
     "execution_count": 40,
     "metadata": {},
     "output_type": "execute_result"
    }
   ],
   "source": [
    "(simg[:3,:3]*ddkernel).sum() # corresponds to the (0,0) dilated convolution output"
   ]
  },
  {
   "cell_type": "markdown",
   "metadata": {},
   "source": [
    "observe we obtain the same result by using `dilation_rate=1`"
   ]
  },
  {
   "cell_type": "code",
   "execution_count": 41,
   "metadata": {
    "scrolled": true
   },
   "outputs": [
    {
     "data": {
      "text/plain": [
       "array([[ 9., 76.],\n",
       "       [22., 75.]], dtype=float32)"
      ]
     },
     "execution_count": 41,
     "metadata": {},
     "output_type": "execute_result"
    }
   ],
   "source": [
    "c1 = tf.keras.layers.Conv2D(filters=1, kernel_size=ddkernel.shape, padding=\"VALID\", activation=\"linear\")\n",
    "c1.build(input_shape=[None, *simg[:,:,None].shape])\n",
    "c1.set_weights([ddkernel.T[:,:,None, None], np.r_[0]])\n",
    "c1(simg.T[None, :, :, None]).numpy().T[0,:,:,0]"
   ]
  },
  {
   "cell_type": "code",
   "execution_count": 42,
   "metadata": {},
   "outputs": [
    {
     "data": {
      "text/plain": [
       "array([[4., 5., 8., 7.],\n",
       "       [1., 8., 8., 8.],\n",
       "       [3., 6., 6., 4.],\n",
       "       [6., 5., 7., 8.]], dtype=float32)"
      ]
     },
     "execution_count": 42,
     "metadata": {},
     "output_type": "execute_result"
    }
   ],
   "source": [
    "simg"
   ]
  },
  {
   "cell_type": "markdown",
   "metadata": {},
   "source": [
    "### Intuition\n",
    "\n",
    "somehow, with atrous convolutions we are using a **lower resolution filter** at a higher resolution image, with the hope to extract semantic content while keeping some details"
   ]
  },
  {
   "cell_type": "code",
   "execution_count": 47,
   "metadata": {},
   "outputs": [],
   "source": [
    "from skimage import io\n",
    "img = io.imread(\"local/imgs/sample_img.png\")\n",
    "img = (img-np.min(img))/(np.max(img)-np.min(img))\n",
    "img = img.reshape(1,*img.shape, 1)\n",
    "f = np.r_[[-1., -1.,  1., -1., -1., -1., -1.,  1.,  1.],\n",
    "          [ 1., -1.,  1., -1., -1.,  1., -1., -1., -1.]].reshape(3,3,1,2)"
   ]
  },
  {
   "cell_type": "code",
   "execution_count": 48,
   "metadata": {},
   "outputs": [
    {
     "data": {
      "image/png": "[encoded data removed]",
      "text/plain": [
       "<Figure size 360x144 with 3 Axes>"
      ]
     },
     "metadata": {
      "needs_background": "light"
     },
     "output_type": "display_data"
    }
   ],
   "source": [
    "plt.figure(figsize=(5,2))\n",
    "plt.subplot(131);  plt.imshow(img[0,:,:,0], cmap=plt.cm.Greys_r); plt.axis(\"off\")\n",
    "plt.subplot(132);  plt.imshow(f[:,:,0,0]); plt.axis(\"off\")\n",
    "plt.subplot(133);  plt.imshow(f[:,:,0,1]); plt.axis(\"off\");"
   ]
  },
  {
   "cell_type": "markdown",
   "metadata": {},
   "source": [
    "observe the regular convolution at the original resolution"
   ]
  },
  {
   "cell_type": "code",
   "execution_count": 49,
   "metadata": {},
   "outputs": [
    {
     "name": "stdout",
     "output_type": "stream",
     "text": [
      "(1, 30, 30, 2)\n"
     ]
    },
    {
     "data": {
      "text/plain": [
       "Text(0.5, 1.0, 'conv filter 1')"
      ]
     },
     "execution_count": 49,
     "metadata": {},
     "output_type": "execute_result"
    },
    {
     "data": {
      "image/png": "[encoded data removed]",
      "text/plain": [
       "<Figure size 720x432 with 3 Axes>"
      ]
     },
     "metadata": {
      "needs_background": "light"
     },
     "output_type": "display_data"
    }
   ],
   "source": [
    "c = tf.keras.layers.Conv2D(filters=f.shape[-1], kernel_size=f.shape[:2], activation=\"sigmoid\", padding='VALID', dtype=tf.float64)\n",
    "c.build(input_shape=(1,7,7,f.shape[2]))   # any shape would do here, just initializing weights\n",
    "c.set_weights([f, np.zeros(2)])\n",
    "cimg = c(img).numpy()\n",
    "print (cimg.shape)\n",
    "plt.figure(figsize=(10,6))\n",
    "plt.subplot(131); plt.imshow(img[0,:,:,0], cmap=plt.cm.Greys_r); plt.axis(\"off\"); plt.title(\"original\")\n",
    "plt.subplot(132); plt.imshow(cimg[0,:,:,0], cmap=plt.cm.Greys_r); plt.axis(\"off\"); plt.title(\"conv filter 0\")\n",
    "plt.subplot(133); plt.imshow(cimg[0,:,:,1], cmap=plt.cm.Greys_r); plt.axis(\"off\"); plt.title(\"conv filter 1\")\n"
   ]
  },
  {
   "cell_type": "markdown",
   "metadata": {},
   "source": [
    "now a dilated convolution, think of applying the same filter at a lower resolution while keeping details"
   ]
  },
  {
   "cell_type": "code",
   "execution_count": 79,
   "metadata": {},
   "outputs": [
    {
     "name": "stdout",
     "output_type": "stream",
     "text": [
      "(1, 28, 28, 2)\n"
     ]
    },
    {
     "data": {
      "text/plain": [
       "Text(0.5, 1.0, 'conv filter 1')"
      ]
     },
     "execution_count": 79,
     "metadata": {},
     "output_type": "execute_result"
    },
    {
     "data": {
      "image/png": "[encoded data removed]",
      "text/plain": [
       "<Figure size 720x432 with 3 Axes>"
      ]
     },
     "metadata": {
      "needs_background": "light"
     },
     "output_type": "display_data"
    }
   ],
   "source": [
    "c = tf.keras.layers.Conv2D(filters=f.shape[-1], kernel_size=f.shape[:2], \n",
    "                           dilation_rate=2,\n",
    "                           activation=\"sigmoid\", padding='VALID', dtype=tf.float64)\n",
    "c.build(input_shape=(1,7,7,f.shape[2]))   # any shape would do here, just initializing weights\n",
    "c.set_weights([f, np.zeros(2)])\n",
    "cimg = c(img).numpy()\n",
    "print (cimg.shape)\n",
    "\n",
    "plt.figure(figsize=(10,6))\n",
    "plt.subplot(131); plt.imshow(img[0,:,:,0], cmap=plt.cm.Greys_r); plt.axis(\"off\"); plt.title(\"original\")\n",
    "plt.subplot(132); plt.imshow(cimg[0,:,:,0], cmap=plt.cm.Greys_r); plt.axis(\"off\"); plt.title(\"conv filter 0\")\n",
    "plt.subplot(133); plt.imshow(cimg[0,:,:,1], cmap=plt.cm.Greys_r); plt.axis(\"off\"); plt.title(\"conv filter 1\")\n"
   ]
  },
  {
   "cell_type": "markdown",
   "metadata": {},
   "source": [
    "now we actually resize the image **and THEN** apply the original filter (with no dilution), so that the final resolution is the same\n",
    "\n",
    "However, observe how the previous dilated convolutions tries to keep sharper details of the original image "
   ]
  },
  {
   "cell_type": "code",
   "execution_count": 82,
   "metadata": {},
   "outputs": [
    {
     "data": {
      "text/plain": [
       "(1, 30, 30, 1)"
      ]
     },
     "execution_count": 82,
     "metadata": {},
     "output_type": "execute_result"
    }
   ],
   "source": [
    "from skimage.transform import resize\n",
    "n = 30\n",
    "simg = resize(img[0,:,:,0], (n, n)).reshape(1,n,n,1)\n",
    "simg.shape"
   ]
  },
  {
   "cell_type": "code",
   "execution_count": 83,
   "metadata": {},
   "outputs": [
    {
     "name": "stdout",
     "output_type": "stream",
     "text": [
      "(1, 28, 28, 2)\n"
     ]
    },
    {
     "data": {
      "text/plain": [
       "Text(0.5, 1.0, 'conv filter 1')"
      ]
     },
     "execution_count": 83,
     "metadata": {},
     "output_type": "execute_result"
    },
    {
     "data": {
      "image/png": "[encoded data removed]",
      "text/plain": [
       "<Figure size 720x432 with 3 Axes>"
      ]
     },
     "metadata": {
      "needs_background": "light"
     },
     "output_type": "display_data"
    }
   ],
   "source": [
    "c = tf.keras.layers.Conv2D(filters=f.shape[-1], kernel_size=f.shape[:2], activation=\"sigmoid\", padding='VALID', dtype=tf.float64)\n",
    "c.build(input_shape=(1,7,7,f.shape[2]))   # any shape would do here, just initializing weights\n",
    "c.set_weights([f, np.zeros(2)])\n",
    "csimg = c(simg).numpy()\n",
    "print(csimg.shape)\n",
    "\n",
    "plt.figure(figsize=(10,6))\n",
    "plt.subplot(131); plt.imshow(simg[0,:,:,0], cmap=plt.cm.Greys_r); plt.axis(\"off\"); plt.title(\"original\")\n",
    "plt.subplot(132); plt.imshow(csimg[0,:,:,0], cmap=plt.cm.Greys_r); plt.axis(\"off\"); plt.title(\"conv filter 0\")\n",
    "plt.subplot(133); plt.imshow(csimg[0,:,:,1], cmap=plt.cm.Greys_r); plt.axis(\"off\"); plt.title(\"conv filter 1\")\n"
   ]
  },
  {
   "cell_type": "code",
   "execution_count": null,
   "metadata": {},
   "outputs": [],
   "source": []
  }
 ],
 "metadata": {
  "kernelspec": {
   "display_name": "p38",
   "language": "python",
   "name": "p38"
  },
  "language_info": {
   "codemirror_mode": {
    "name": "ipython",
    "version": 3
   },
   "file_extension": ".py",
   "mimetype": "text/x-python",
   "name": "python",
   "nbconvert_exporter": "python",
   "pygments_lexer": "ipython3",
   "version": "3.8.3"
  }
 },
 "nbformat": 4,
 "nbformat_minor": 4
}
