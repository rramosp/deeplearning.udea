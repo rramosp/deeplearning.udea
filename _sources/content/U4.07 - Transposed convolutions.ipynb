{
 "cells": [
  {
   "cell_type": "markdown",
   "metadata": {},
   "source": [
    "# 4.7 - Transposed convolutions"
   ]
  },
  {
   "cell_type": "code",
   "execution_count": 1,
   "metadata": {},
   "outputs": [],
   "source": [
    "!wget -nc --no-cache -O init.py -q https://raw.githubusercontent.com/rramosp/2021.deeplearning/main/content/init.py\n",
    "import init; init.init(force_download=False); "
   ]
  },
  {
   "cell_type": "code",
   "execution_count": 327,
   "metadata": {},
   "outputs": [
    {
     "name": "stdout",
     "output_type": "stream",
     "text": [
      "The tensorboard extension is already loaded. To reload it, use:\n",
      "  %reload_ext tensorboard\n"
     ]
    },
    {
     "data": {
      "text/plain": [
       "'2.4.0'"
      ]
     },
     "execution_count": 327,
     "metadata": {},
     "output_type": "execute_result"
    }
   ],
   "source": [
    "import numpy as np\n",
    "import tensorflow as tf\n",
    "import matplotlib.pyplot as plt\n",
    "import pandas as pd\n",
    "%matplotlib inline\n",
    "%load_ext tensorboard\n",
    "from time import time\n",
    "tf.__version__"
   ]
  },
  {
   "cell_type": "markdown",
   "metadata": {},
   "source": [
    "## Types of convolutions\n",
    "\n",
    "See [Types of convolutions](https://medium.com/hitchhikers-guide-to-deep-learning/10-introduction-to-deep-learning-with-computer-vision-types-of-convolutions-atrous-convolutions-3cf142f77bc0) for a global view of how convolutions can be made in different ways.\n",
    "\n",
    "Complementary refs:\n",
    "\n",
    "- [Up-sampling with Transposed Convolution](https://towardsdatascience.com/up-sampling-with-transposed-convolution-9ae4f2df52d0)\n",
    "- [A guide to convolution arithmetic for deep learning](https://arxiv.org/abs/1603.07285)\n",
    "- [Deconvolution and Checkerboard Artifacts](https://distill.pub/2016/deconv-checkerboard/)\n",
    "\n",
    "\n",
    "## Architectures:\n",
    "\n",
    "- UNet: [https://towardsdatascience.com/understanding-semantic-segmentation-with-unet-6be4f42d4b47](https://towardsdatascience.com/understanding-semantic-segmentation-with-unet-6be4f42d4b47)\n",
    "- DeepLab: [https://developers.arcgis.com/python/guide/how-deeplabv3-works/](https://developers.arcgis.com/python/guide/how-deeplabv3-works/)\n",
    "- Mask R-CNN: [https://towardsdatascience.com/computer-vision-instance-segmentation-with-mask-r-cnn-7983502fcad1](https://towardsdatascience.com/computer-vision-instance-segmentation-with-mask-r-cnn-7983502fcad1)"
   ]
  },
  {
   "cell_type": "markdown",
   "metadata": {},
   "source": [
    "## Convolution matrix\n",
    "\n",
    "we have the following (very small) image and filter"
   ]
  },
  {
   "cell_type": "code",
   "execution_count": 328,
   "metadata": {},
   "outputs": [
    {
     "name": "stdout",
     "output_type": "stream",
     "text": [
      "image\n",
      " [[4. 5. 8. 7.]\n",
      " [1. 8. 8. 8.]\n",
      " [3. 6. 6. 4.]\n",
      " [6. 5. 7. 8.]]\n",
      "--\n",
      "filter\n",
      " [[10 -4 10]\n",
      " [10  0 30]\n",
      " [30 30 -1]]\n"
     ]
    }
   ],
   "source": [
    "simg = np.r_[[[4,5,8,7],[1,8,8,8],[3,6,6,4],[6,5,7,8]]].astype(np.float32)\n",
    "akernel = np.r_[[[10,-4,10],[10,4-4,30],[30,30,-1]]]\n",
    "print (\"image\\n\", simg)\n",
    "print (\"--\\nfilter\\n\", akernel)"
   ]
  },
  {
   "cell_type": "markdown",
   "metadata": {},
   "source": [
    "and a VALID convolution (with TF and by hand)"
   ]
  },
  {
   "cell_type": "code",
   "execution_count": 329,
   "metadata": {},
   "outputs": [
    {
     "name": "stdout",
     "output_type": "stream",
     "text": [
      "[[614. 764.]\n",
      " [591. 660.]]\n"
     ]
    }
   ],
   "source": [
    "c1 = tf.keras.layers.Conv2D(filters=1, kernel_size=akernel.shape, padding=\"VALID\", activation=\"linear\")\n",
    "c1.build(input_shape=[None, *simg[:,:,None].shape])\n",
    "c1.set_weights([akernel[:,:,None, None], np.r_[0]])\n",
    "\n",
    "routput = c1(simg[None, :, :, None]).numpy()\n",
    "print(routput[0,:,:,0])"
   ]
  },
  {
   "cell_type": "code",
   "execution_count": 330,
   "metadata": {},
   "outputs": [
    {
     "data": {
      "text/plain": [
       "array([[614., 764.],\n",
       "       [591., 660.]])"
      ]
     },
     "execution_count": 330,
     "metadata": {},
     "output_type": "execute_result"
    }
   ],
   "source": [
    "np.r_[[[(simg[:3,:3]*akernel).sum(), (simg[:3,1:]*akernel).sum()],\\\n",
    "       [(simg[1:,:3]*akernel).sum(), (simg[1:,1:]*akernel).sum()]]]"
   ]
  },
  {
   "cell_type": "markdown",
   "metadata": {},
   "source": [
    "observe we can arrange the filter into a **convolutional matrix**, so that a `.dot` operation gets the same result.\n",
    "\n",
    "\n",
    "$$a_m = c_m \\times img$$\n",
    "\n",
    "with \n",
    "\n",
    "- $am \\in \\mathbb{R}^{4}$, that can be reshaped into $\\mathbb{R}^{2\\times 2}$\n",
    "- $cm \\in \\mathbb{R}^{4\\times 16}$\n",
    "- $img \\in \\mathbb{R}^{16}$, reshaped from $\\mathbb{R}^{4\\times 4}$\n"
   ]
  },
  {
   "cell_type": "code",
   "execution_count": 331,
   "metadata": {},
   "outputs": [
    {
     "data": {
      "text/plain": [
       "array([[614., 764.],\n",
       "       [591., 660.]])"
      ]
     },
     "execution_count": 331,
     "metadata": {},
     "output_type": "execute_result"
    }
   ],
   "source": [
    "cm = np.array([[10., -4., 10.,  0., 10.,  0., 30.,  0., 30., 30., -1.,  0.,  0., 0.,  0.,   0.],\n",
    "               [ 0., 10., -4., 10.,  0., 10.,  0., 30.,  0., 30., 30., -1.,  0., 0.,  0.,   0.],\n",
    "               [ 0.,  0.,  0.,  0., 10., -4., 10.,  0., 10.,  0., 30.,  0., 30., 30., -1.,  0.],\n",
    "               [ 0.,  0.,  0.,  0.,  0., 10., -4., 10.,  0., 10.,  0., 30.,  0., 30., 30., -1.]])\n",
    "\n",
    "dx, dy = np.r_[simg.shape[0] - akernel.shape[0]+1, simg.shape[1] - akernel.shape[1]+1]\n",
    "am = cm.dot(simg.flatten()).reshape(dx,dy)\n",
    "am"
   ]
  },
  {
   "cell_type": "markdown",
   "metadata": {},
   "source": [
    "observe that `cm` is just the same `akernel` replicated and re-arranged"
   ]
  },
  {
   "cell_type": "code",
   "execution_count": 332,
   "metadata": {},
   "outputs": [
    {
     "data": {
      "image/png": "[encoded data removed]",
      "text/plain": [
       "<Figure size 432x288 with 2 Axes>"
      ]
     },
     "metadata": {
      "needs_background": "light"
     },
     "output_type": "display_data"
    }
   ],
   "source": [
    "plt.imshow(akernel); plt.axis(\"off\")\n",
    "plt.colorbar();"
   ]
  },
  {
   "cell_type": "code",
   "execution_count": 333,
   "metadata": {},
   "outputs": [
    {
     "data": {
      "image/png": "[encoded data removed]",
      "text/plain": [
       "<Figure size 432x288 with 2 Axes>"
      ]
     },
     "metadata": {
      "needs_background": "light"
     },
     "output_type": "display_data"
    }
   ],
   "source": [
    "plt.imshow(cm); plt.axis(\"off\")\n",
    "plt.colorbar();"
   ]
  },
  {
   "cell_type": "markdown",
   "metadata": {},
   "source": [
    "## Transposed convolutions\n",
    "\n",
    "we can turn the `.dot` product around by using `cm`´s transpose matrix. This **IS NOT** in general an inverse operation, but the dimensions are kept and can be used to recover reduced dimensions.\n",
    "\n",
    "$$img´ = c_m^T \\times c_m$$\n",
    "\n",
    "with \n",
    "\n",
    "- $img´ \\in \\mathbb{R}^{16}$, that can be reshaped from $\\mathbb{R}^{4\\times 4}$\n",
    "- $cm \\in \\mathbb{R}^{16\\times 4}$\n",
    "- $am \\in \\mathbb{R}^{4}$, reshaped into $\\mathbb{R}^{2\\times 2}$\n"
   ]
  },
  {
   "cell_type": "code",
   "execution_count": 334,
   "metadata": {},
   "outputs": [
    {
     "data": {
      "text/plain": [
       "array([[ 6140.,  5184.,  3084.,  7640.],\n",
       "       [12050., 11876., 21690., 29520.],\n",
       "       [24330., 47940., 40036., 19036.],\n",
       "       [17730., 37530., 19209.,  -660.]])"
      ]
     },
     "execution_count": 334,
     "metadata": {},
     "output_type": "execute_result"
    }
   ],
   "source": [
    "cm.T.dot(am.flatten()).reshape(simg.shape)"
   ]
  },
  {
   "cell_type": "markdown",
   "metadata": {},
   "source": [
    "which is implemented as a [`Conv2DTransposed`](https://www.tensorflow.org/api_docs/python/tf/keras/layers/Conv2DTranspose) Keras layer"
   ]
  },
  {
   "cell_type": "code",
   "execution_count": 335,
   "metadata": {},
   "outputs": [
    {
     "data": {
      "text/plain": [
       "array([[ 6140.,  5184.,  3084.,  7640.],\n",
       "       [12050., 11876., 21690., 29520.],\n",
       "       [24330., 47940., 40036., 19036.],\n",
       "       [17730., 37530., 19209.,  -660.]], dtype=float32)"
      ]
     },
     "execution_count": 335,
     "metadata": {},
     "output_type": "execute_result"
    }
   ],
   "source": [
    "ct = tf.keras.layers.Conv2DTranspose(filters=1, kernel_size=akernel.shape, activation=\"linear\")\n",
    "ct.build(input_shape=[None, *am[:,:,None].shape])\n",
    "ct.set_weights((akernel[:,:, None, None], np.r_[0]))\n",
    "ct(am[None, :, :, None]).numpy()[0,:,:,0]"
   ]
  },
  {
   "cell_type": "markdown",
   "metadata": {},
   "source": [
    "observe how a transposed convolution is simply a convolution with a padded and dilated input img"
   ]
  },
  {
   "cell_type": "code",
   "execution_count": 336,
   "metadata": {},
   "outputs": [],
   "source": [
    "def dilate(simg):\n",
    "    k = simg.copy()\n",
    "    for i in range(k.shape[1]-1):\n",
    "        k = np.insert(k, 1+2*i, values=0, axis=1)\n",
    "    for i in range(k.shape[0]-1):\n",
    "        k = np.insert(k, 1+2*i, values=0, axis=0)\n",
    "    return k\n",
    "\n",
    "def pad(am, n):\n",
    "    k = np.append(am,np.zeros((n,am.shape[1])), axis=0)\n",
    "    k = np.append(k,np.zeros((k.shape[0],n)), axis=1)\n",
    "    k = np.append(np.zeros((k.shape[0],n)), k, axis=1)\n",
    "    k = np.append(np.zeros((n, k.shape[1])), k, axis=0)\n",
    "    return k"
   ]
  },
  {
   "cell_type": "code",
   "execution_count": 337,
   "metadata": {},
   "outputs": [
    {
     "data": {
      "text/plain": [
       "array([[  0.,   0.,   0.,   0.,   0.,   0.],\n",
       "       [  0.,   0.,   0.,   0.,   0.,   0.],\n",
       "       [  0.,   0., 614., 764.,   0.,   0.],\n",
       "       [  0.,   0., 591., 660.,   0.,   0.],\n",
       "       [  0.,   0.,   0.,   0.,   0.,   0.],\n",
       "       [  0.,   0.,   0.,   0.,   0.,   0.]])"
      ]
     },
     "execution_count": 337,
     "metadata": {},
     "output_type": "execute_result"
    }
   ],
   "source": [
    "dam = pad(am, 2)\n",
    "dam"
   ]
  },
  {
   "cell_type": "markdown",
   "metadata": {},
   "source": [
    "a transposed convolution implemented with a regular convolution"
   ]
  },
  {
   "cell_type": "code",
   "execution_count": 338,
   "metadata": {},
   "outputs": [
    {
     "name": "stdout",
     "output_type": "stream",
     "text": [
      "[[ 6140.  5184.  3084.  7640.]\n",
      " [12050. 11876. 21690. 29520.]\n",
      " [24330. 47940. 40036. 19036.]\n",
      " [17730. 37530. 19209.  -660.]]\n"
     ]
    }
   ],
   "source": [
    "dkernel = akernel[::-1,::-1] # hacking to conform to TF \n",
    "\n",
    "c1 = tf.keras.layers.Conv2D(filters=1, kernel_size=dkernel.shape, padding=\"VALID\", activation=\"linear\")\n",
    "c1.build(input_shape=[None, *simg[:,:,None].shape])\n",
    "c1.set_weights([dkernel.T[:,:,None, None], np.r_[0]])\n",
    "\n",
    "routput = c1(dam.T[None, :, :, None]).numpy().T\n",
    "print(routput[0,:,:,0])"
   ]
  },
  {
   "cell_type": "markdown",
   "metadata": {},
   "source": [
    "the same transposed convolution with a `Conv2DTranspose` layer"
   ]
  },
  {
   "cell_type": "code",
   "execution_count": 339,
   "metadata": {},
   "outputs": [
    {
     "data": {
      "text/plain": [
       "array([[ 6140.,  5184.,  3084.,  7640.],\n",
       "       [12050., 11876., 21690., 29520.],\n",
       "       [24330., 47940., 40036., 19036.],\n",
       "       [17730., 37530., 19209.,  -660.]], dtype=float32)"
      ]
     },
     "execution_count": 339,
     "metadata": {},
     "output_type": "execute_result"
    }
   ],
   "source": [
    "ct = tf.keras.layers.Conv2DTranspose(filters=1, kernel_size=akernel.shape, activation=\"linear\")\n",
    "ct.build(input_shape=[None, *am[:,:,None].shape])\n",
    "ct.set_weights((akernel[:,:, None, None], np.r_[0]))\n",
    "ct(am[None, :, :, None]).numpy()[0,:,:,0]"
   ]
  },
  {
   "cell_type": "code",
   "execution_count": null,
   "metadata": {},
   "outputs": [],
   "source": []
  },
  {
   "cell_type": "markdown",
   "metadata": {},
   "source": [
    "now with `stride` (i.e. dilation on the input image)"
   ]
  },
  {
   "cell_type": "code",
   "execution_count": 340,
   "metadata": {},
   "outputs": [
    {
     "data": {
      "text/plain": [
       "array([[ 6140., -2456., 13780., -3056.,  7640.],\n",
       "       [ 6140.,     0., 26060.,     0., 22920.],\n",
       "       [24330., 16056., 34816., 20280.,  5836.],\n",
       "       [ 5910.,     0., 24330.,     0., 19800.],\n",
       "       [17730., 17730., 19209., 19800.,  -660.]], dtype=float32)"
      ]
     },
     "execution_count": 340,
     "metadata": {},
     "output_type": "execute_result"
    }
   ],
   "source": [
    "ct = tf.keras.layers.Conv2DTranspose(filters=1, strides=2, kernel_size=akernel.shape, activation=\"linear\")\n",
    "ct.build(input_shape=[None, *am[:,:,None].shape])\n",
    "ct.set_weights((akernel[:,:, None, None], np.r_[0]))\n",
    "ct(am[None, :, :, None]).numpy()[0,:,:,0]"
   ]
  },
  {
   "cell_type": "code",
   "execution_count": 341,
   "metadata": {},
   "outputs": [
    {
     "data": {
      "text/plain": [
       "array([[ 6140.,  7640., -2456., -3056.,  6140.,  7640.],\n",
       "       [ 5910.,  6600., -2364., -2640.,  5910.,  6600.],\n",
       "       [ 6140.,  7640.,     0.,     0., 18420., 22920.],\n",
       "       [ 5910.,  6600.,     0.,     0., 17730., 19800.],\n",
       "       [18420., 22920., 18420., 22920.,  -614.,  -764.],\n",
       "       [17730., 19800., 17730., 19800.,  -591.,  -660.]], dtype=float32)"
      ]
     },
     "execution_count": 341,
     "metadata": {},
     "output_type": "execute_result"
    }
   ],
   "source": [
    "ct = tf.keras.layers.Conv2DTranspose(filters=1, dilation_rate=2, kernel_size=akernel.shape, activation=\"linear\")\n",
    "ct.build(input_shape=[None, *am[:,:,None].shape])\n",
    "ct.set_weights((akernel[:,:, None, None], np.r_[0]))\n",
    "ct(am[None, :, :, None]).numpy()[0,:,:,0]"
   ]
  },
  {
   "cell_type": "markdown",
   "metadata": {},
   "source": [
    "which is equivalent to a convolution with dilation on the input image"
   ]
  },
  {
   "cell_type": "code",
   "execution_count": 342,
   "metadata": {},
   "outputs": [
    {
     "data": {
      "text/plain": [
       "array([[  0.,   0.,   0.,   0.,   0.,   0.,   0.],\n",
       "       [  0.,   0.,   0.,   0.,   0.,   0.,   0.],\n",
       "       [  0.,   0., 614.,   0., 764.,   0.,   0.],\n",
       "       [  0.,   0.,   0.,   0.,   0.,   0.,   0.],\n",
       "       [  0.,   0., 591.,   0., 660.,   0.,   0.],\n",
       "       [  0.,   0.,   0.,   0.,   0.,   0.,   0.],\n",
       "       [  0.,   0.,   0.,   0.,   0.,   0.,   0.]])"
      ]
     },
     "execution_count": 342,
     "metadata": {},
     "output_type": "execute_result"
    }
   ],
   "source": [
    "# the input image with padding and dilation\n",
    "dam = pad(dilate(am), 2)\n",
    "dam"
   ]
  },
  {
   "cell_type": "code",
   "execution_count": 343,
   "metadata": {},
   "outputs": [
    {
     "name": "stdout",
     "output_type": "stream",
     "text": [
      "[[ 6140. -2456. 13780. -3056.  7640.]\n",
      " [ 6140.     0. 26060.     0. 22920.]\n",
      " [24330. 16056. 34816. 20280.  5836.]\n",
      " [ 5910.     0. 24330.     0. 19800.]\n",
      " [17730. 17730. 19209. 19800.  -660.]]\n"
     ]
    }
   ],
   "source": [
    "dkernel = akernel[::-1,::-1] # hacking to conform to TF \n",
    "\n",
    "c1 = tf.keras.layers.Conv2D(filters=1, kernel_size=dkernel.shape, padding=\"VALID\", activation=\"linear\")\n",
    "c1.build(input_shape=[None, *simg[:,:,None].shape])\n",
    "c1.set_weights([dkernel.T[:,:,None, None], np.r_[0]])\n",
    "\n",
    "routput = c1(dam.T[None, :, :, None]).numpy().T\n",
    "print(routput[0,:,:,0])"
   ]
  },
  {
   "cell_type": "code",
   "execution_count": null,
   "metadata": {},
   "outputs": [],
   "source": []
  },
  {
   "cell_type": "markdown",
   "metadata": {},
   "source": [
    "for curiosity, can we find any $am$ such that $img \\approx img'$? Observe how\n",
    "\n",
    "- we set the values of a convolutional filter for which  `trainable=False`\n",
    "- we fit the `Conv2DTranspose` parameters so that the output is a similar as possible to the input\n",
    "- we train with the same input-output values\n",
    "\n",
    "This is, somehow, like a **convolutional autoencoder**, where we fix the encoder and what to find out the decoder."
   ]
  },
  {
   "cell_type": "code",
   "execution_count": 344,
   "metadata": {},
   "outputs": [],
   "source": [
    "def get_model(img_size=4, compile=True):\n",
    "    inputs = tf.keras.Input(shape=(img_size,img_size,1), name=\"input_1\")\n",
    "    layers = tf.keras.layers.Conv2D(1,(3,3), activation=\"linear\", padding=\"SAME\", trainable=False)(inputs)\n",
    "    outputs = tf.keras.layers.Conv2DTranspose(1,(3,3), strides=1, activation=\"linear\", padding=\"SAME\")(layers)\n",
    "    model = tf.keras.Model(inputs = inputs, outputs=outputs)\n",
    "    if compile:\n",
    "        model.compile(optimizer='adam',\n",
    "                      loss='mse',\n",
    "                      metrics=['mse'])\n",
    "    return model"
   ]
  },
  {
   "cell_type": "code",
   "execution_count": 345,
   "metadata": {},
   "outputs": [
    {
     "name": "stdout",
     "output_type": "stream",
     "text": [
      "Model: \"model_3\"\n",
      "_________________________________________________________________\n",
      "Layer (type)                 Output Shape              Param #   \n",
      "=================================================================\n",
      "input_1 (InputLayer)         [(None, 4, 4, 1)]         0         \n",
      "_________________________________________________________________\n",
      "conv2d_102 (Conv2D)          (None, 4, 4, 1)           10        \n",
      "_________________________________________________________________\n",
      "conv2d_transpose_37 (Conv2DT (None, 4, 4, 1)           10        \n",
      "=================================================================\n",
      "Total params: 20\n",
      "Trainable params: 10\n",
      "Non-trainable params: 10\n",
      "_________________________________________________________________\n"
     ]
    }
   ],
   "source": [
    "m = get_model()\n",
    "m.summary()"
   ]
  },
  {
   "cell_type": "code",
   "execution_count": 346,
   "metadata": {},
   "outputs": [],
   "source": [
    "m.build(input_shape=[None, *am[:,:,None].shape])\n",
    "m.layers[1].set_weights((akernel[:,:, None, None], np.r_[0]))"
   ]
  },
  {
   "cell_type": "code",
   "execution_count": 347,
   "metadata": {},
   "outputs": [
    {
     "data": {
      "text/plain": [
       "<tensorflow.python.keras.callbacks.History at 0x7fb07b14a640>"
      ]
     },
     "execution_count": 347,
     "metadata": {},
     "output_type": "execute_result"
    }
   ],
   "source": [
    "m.fit(simg[None, :,:, None], simg[None, :,:, None], epochs=10000, verbose=False)"
   ]
  },
  {
   "cell_type": "markdown",
   "metadata": {},
   "source": [
    "observe that the reconstructed image values are somewhat similar to the input image"
   ]
  },
  {
   "cell_type": "code",
   "execution_count": 348,
   "metadata": {},
   "outputs": [
    {
     "data": {
      "text/plain": [
       "array([[3.2036772, 3.7963479, 6.2032294, 6.6606402],\n",
       "       [1.9207318, 7.7766604, 9.257421 , 7.304693 ],\n",
       "       [3.5610216, 7.463056 , 9.20143  , 4.6204095],\n",
       "       [3.9210246, 2.9471133, 4.64958  , 6.73765  ]], dtype=float32)"
      ]
     },
     "execution_count": 348,
     "metadata": {},
     "output_type": "execute_result"
    }
   ],
   "source": [
    "m(simg[None, :,:, None])[0,:,:,0].numpy()"
   ]
  },
  {
   "cell_type": "code",
   "execution_count": 349,
   "metadata": {},
   "outputs": [
    {
     "data": {
      "text/plain": [
       "array([[4., 5., 8., 7.],\n",
       "       [1., 8., 8., 8.],\n",
       "       [3., 6., 6., 4.],\n",
       "       [6., 5., 7., 8.]], dtype=float32)"
      ]
     },
     "execution_count": 349,
     "metadata": {},
     "output_type": "execute_result"
    }
   ],
   "source": [
    "simg"
   ]
  },
  {
   "cell_type": "markdown",
   "metadata": {},
   "source": [
    "these two filters try to be **convolutional inverses** of each other (this is not a rigorous definition, just an intuition!!)"
   ]
  },
  {
   "cell_type": "code",
   "execution_count": 350,
   "metadata": {},
   "outputs": [
    {
     "data": {
      "text/plain": [
       "array([[10., -4., 10.],\n",
       "       [10.,  0., 30.],\n",
       "       [30., 30., -1.]], dtype=float32)"
      ]
     },
     "execution_count": 350,
     "metadata": {},
     "output_type": "execute_result"
    }
   ],
   "source": [
    "m.layers[1].get_weights()[0][:,:,0,0]"
   ]
  },
  {
   "cell_type": "code",
   "execution_count": 351,
   "metadata": {},
   "outputs": [
    {
     "data": {
      "text/plain": [
       "array([[ 0.0047086 , -0.00065021, -0.00595336],\n",
       "       [ 0.0004696 , -0.00192431,  0.01631924],\n",
       "       [-0.00721471,  0.0180657 , -0.01472471]], dtype=float32)"
      ]
     },
     "execution_count": 351,
     "metadata": {},
     "output_type": "execute_result"
    }
   ],
   "source": [
    "m.layers[2].get_weights()[0][:,:,0,0]"
   ]
  },
  {
   "cell_type": "markdown",
   "metadata": {},
   "source": [
    "## Downsampling and upsampling\n",
    "\n",
    "we use our `mini_cifar`, observe how:\n",
    "\n",
    "- the following models downsize and then upsize the input.\n",
    "- input and output shapes of the models are the same\n",
    "- we set up a loss function to reconstruct the input in the output.\n",
    "- the reconstruction quality with `modelA` with `n_filters=1` and `n_filters=10`, and with `modelB`.\n",
    "- the artifacts that reconstruction generates."
   ]
  },
  {
   "cell_type": "code",
   "execution_count": 352,
   "metadata": {},
   "outputs": [
    {
     "data": {
      "text/plain": [
       "((1000, 32, 32, 1), (1000,))"
      ]
     },
     "execution_count": 352,
     "metadata": {},
     "output_type": "execute_result"
    }
   ],
   "source": [
    "import h5py\n",
    "!wget -nc -q https://s3.amazonaws.com/rlx/mini_cifar.h5\n",
    "with h5py.File('mini_cifar.h5','r') as h5f:\n",
    "    x_cifar = h5f[\"x\"][:][:1000]\n",
    "    y_cifar = h5f[\"y\"][:][:1000]\n",
    "x_cifar = x_cifar.mean(axis=3)[:,:,:,None] # observe we convert cifar to grayscale\n",
    "x_cifar.shape, y_cifar.shape"
   ]
  },
  {
   "cell_type": "markdown",
   "metadata": {},
   "source": [
    "model A reduces the activation map dimensions with a `MaxPool2D` layer. It only has one `Conv2D` layer"
   ]
  },
  {
   "cell_type": "code",
   "execution_count": 353,
   "metadata": {},
   "outputs": [],
   "source": [
    "def get_modelA(img_size=32, compile=True):\n",
    "    inputs = tf.keras.Input(shape=(img_size,img_size,1), name=\"input_1\")\n",
    "    layers = tf.keras.layers.Conv2D(20,(3,3), activation=\"tanh\", padding=\"SAME\", trainable=False)(inputs)\n",
    "    layers = tf.keras.layers.MaxPool2D(2)(layers)\n",
    "    outputs = tf.keras.layers.Conv2DTranspose(1,(3,3), strides=2, activation=\"tanh\", padding=\"SAME\")(layers)\n",
    "    model = tf.keras.Model(inputs = inputs, outputs=outputs)\n",
    "    if compile:\n",
    "        model.compile(optimizer='adam',\n",
    "                      loss='mse',\n",
    "                      metrics=['mse'])\n",
    "    return model"
   ]
  },
  {
   "cell_type": "markdown",
   "metadata": {},
   "source": [
    "model B reduces the activation map dimensions with a `stride=2` on the convolutional layer. It also has 2 `Conv2D` layers"
   ]
  },
  {
   "cell_type": "code",
   "execution_count": 354,
   "metadata": {},
   "outputs": [],
   "source": [
    "def get_modelB(img_size=32, compile=True):\n",
    "    inputs = tf.keras.Input(shape=(img_size,img_size,1), name=\"input_1\")\n",
    "    layers = tf.keras.layers.Conv2D(5,(3,3), activation=\"tanh\", padding=\"SAME\", trainable=False)(inputs)\n",
    "    layers = tf.keras.layers.Conv2D(15,(3,3), strides=2, activation=\"sigmoid\", padding=\"SAME\", trainable=False)(inputs)\n",
    "    outputs = tf.keras.layers.Conv2DTranspose(1,(3,3), strides=2, activation=\"tanh\", padding=\"SAME\")(layers)\n",
    "    model = tf.keras.Model(inputs = inputs, outputs=outputs)\n",
    "    if compile:\n",
    "        model.compile(optimizer='adam',\n",
    "                      loss='mse',\n",
    "                      metrics=['mse'])\n",
    "    return model"
   ]
  },
  {
   "cell_type": "markdown",
   "metadata": {},
   "source": [
    "observe the different artifacts created in each case"
   ]
  },
  {
   "cell_type": "code",
   "execution_count": 355,
   "metadata": {},
   "outputs": [
    {
     "name": "stdout",
     "output_type": "stream",
     "text": [
      "Model: \"model_4\"\n",
      "_________________________________________________________________\n",
      "Layer (type)                 Output Shape              Param #   \n",
      "=================================================================\n",
      "input_1 (InputLayer)         [(None, 32, 32, 1)]       0         \n",
      "_________________________________________________________________\n",
      "conv2d_104 (Conv2D)          (None, 16, 16, 15)        150       \n",
      "_________________________________________________________________\n",
      "conv2d_transpose_38 (Conv2DT (None, 32, 32, 1)         136       \n",
      "=================================================================\n",
      "Total params: 286\n",
      "Trainable params: 136\n",
      "Non-trainable params: 150\n",
      "_________________________________________________________________\n"
     ]
    }
   ],
   "source": [
    "#m = get_modelA()\n",
    "m = get_modelB()\n",
    "m.summary()"
   ]
  },
  {
   "cell_type": "code",
   "execution_count": 356,
   "metadata": {},
   "outputs": [
    {
     "name": "stdout",
     "output_type": "stream",
     "text": [
      "Epoch 1/20\n",
      "1000/1000 [==============================] - 1s 499us/step - loss: 0.1086 - mse: 0.1086\n",
      "Epoch 2/20\n",
      "1000/1000 [==============================] - 0s 484us/step - loss: 0.0557 - mse: 0.0557\n",
      "Epoch 3/20\n",
      "1000/1000 [==============================] - 1s 506us/step - loss: 0.0518 - mse: 0.0518\n",
      "Epoch 4/20\n",
      "1000/1000 [==============================] - 0s 482us/step - loss: 0.0429 - mse: 0.0429\n",
      "Epoch 5/20\n",
      "1000/1000 [==============================] - 0s 493us/step - loss: 0.0367 - mse: 0.0367\n",
      "Epoch 6/20\n",
      "1000/1000 [==============================] - 0s 484us/step - loss: 0.0322 - mse: 0.0322\n",
      "Epoch 7/20\n",
      "1000/1000 [==============================] - 1s 634us/step - loss: 0.0289 - mse: 0.0289\n",
      "Epoch 8/20\n",
      "1000/1000 [==============================] - 1s 558us/step - loss: 0.0249 - mse: 0.0249\n",
      "Epoch 9/20\n",
      "1000/1000 [==============================] - 1s 512us/step - loss: 0.0208 - mse: 0.0208\n",
      "Epoch 10/20\n",
      "1000/1000 [==============================] - 0s 490us/step - loss: 0.0186 - mse: 0.0186\n",
      "Epoch 11/20\n",
      "1000/1000 [==============================] - 1s 516us/step - loss: 0.0172 - mse: 0.0172\n",
      "Epoch 12/20\n",
      "1000/1000 [==============================] - 1s 716us/step - loss: 0.0151 - mse: 0.0151\n",
      "Epoch 13/20\n",
      "1000/1000 [==============================] - 1s 596us/step - loss: 0.0127 - mse: 0.0127\n",
      "Epoch 14/20\n",
      "1000/1000 [==============================] - 1s 561us/step - loss: 0.0115 - mse: 0.0115\n",
      "Epoch 15/20\n",
      "1000/1000 [==============================] - 1s 508us/step - loss: 0.0109 - mse: 0.0109\n",
      "Epoch 16/20\n",
      "1000/1000 [==============================] - 1s 517us/step - loss: 0.0093 - mse: 0.0093\n",
      "Epoch 17/20\n",
      "1000/1000 [==============================] - 0s 500us/step - loss: 0.0084 - mse: 0.0084\n",
      "Epoch 18/20\n",
      "1000/1000 [==============================] - 1s 539us/step - loss: 0.0081 - mse: 0.0081\n",
      "Epoch 19/20\n",
      "1000/1000 [==============================] - 1s 508us/step - loss: 0.0078 - mse: 0.0078\n",
      "Epoch 20/20\n",
      "1000/1000 [==============================] - 1s 511us/step - loss: 0.0073 - mse: 0.0073\n"
     ]
    },
    {
     "data": {
      "text/plain": [
       "<tensorflow.python.keras.callbacks.History at 0x7fb060b5cf10>"
      ]
     },
     "execution_count": 356,
     "metadata": {},
     "output_type": "execute_result"
    }
   ],
   "source": [
    "m.fit(x_cifar, x_cifar, epochs=20, batch_size=1)"
   ]
  },
  {
   "cell_type": "code",
   "execution_count": 357,
   "metadata": {},
   "outputs": [],
   "source": [
    "px_cifar = m.predict(x_cifar)"
   ]
  },
  {
   "cell_type": "code",
   "execution_count": 358,
   "metadata": {},
   "outputs": [
    {
     "data": {
      "image/png": "[encoded data removed]",
      "text/plain": [
       "<Figure size 360x144 with 2 Axes>"
      ]
     },
     "metadata": {
      "needs_background": "light"
     },
     "output_type": "display_data"
    },
    {
     "data": {
      "image/png": "[encoded data removed]",
      "text/plain": [
       "<Figure size 360x144 with 2 Axes>"
      ]
     },
     "metadata": {
      "needs_background": "light"
     },
     "output_type": "display_data"
    },
    {
     "data": {
      "image/png": "[encoded data removed]",
      "text/plain": [
       "<Figure size 360x144 with 2 Axes>"
      ]
     },
     "metadata": {
      "needs_background": "light"
     },
     "output_type": "display_data"
    },
    {
     "data": {
      "image/png": "[encoded data removed]",
      "text/plain": [
       "<Figure size 360x144 with 2 Axes>"
      ]
     },
     "metadata": {
      "needs_background": "light"
     },
     "output_type": "display_data"
    },
    {
     "data": {
      "image/png": "[encoded data removed]",
      "text/plain": [
       "<Figure size 360x144 with 2 Axes>"
      ]
     },
     "metadata": {
      "needs_background": "light"
     },
     "output_type": "display_data"
    },
    {
     "data": {
      "image/png": "[encoded data removed]",
      "text/plain": [
       "<Figure size 360x144 with 2 Axes>"
      ]
     },
     "metadata": {
      "needs_background": "light"
     },
     "output_type": "display_data"
    },
    {
     "data": {
      "image/png": "[encoded data removed]",
      "text/plain": [
       "<Figure size 360x144 with 2 Axes>"
      ]
     },
     "metadata": {
      "needs_background": "light"
     },
     "output_type": "display_data"
    },
    {
     "data": {
      "image/png": "[encoded data removed]",
      "text/plain": [
       "<Figure size 360x144 with 2 Axes>"
      ]
     },
     "metadata": {
      "needs_background": "light"
     },
     "output_type": "display_data"
    },
    {
     "data": {
      "image/png": "[encoded data removed]",
      "text/plain": [
       "<Figure size 360x144 with 2 Axes>"
      ]
     },
     "metadata": {
      "needs_background": "light"
     },
     "output_type": "display_data"
    },
    {
     "data": {
      "image/png": "[encoded data removed]",
      "text/plain": [
       "<Figure size 360x144 with 2 Axes>"
      ]
     },
     "metadata": {
      "needs_background": "light"
     },
     "output_type": "display_data"
    }
   ],
   "source": [
    "for _ in range(10):\n",
    "    i = np.random.randint(len(x_cifar))\n",
    "    plt.figure(figsize=(5,2))\n",
    "    plt.subplot(121); plt.imshow(x_cifar[i,:,:,0], cmap=plt.cm.Greys_r); plt.axis(\"off\")\n",
    "    plt.subplot(122); plt.imshow(px_cifar[i,:,:,0], cmap=plt.cm.Greys_r); plt.axis(\"off\")"
   ]
  },
  {
   "cell_type": "code",
   "execution_count": null,
   "metadata": {},
   "outputs": [],
   "source": []
  }
 ],
 "metadata": {
  "kernelspec": {
   "display_name": "p38",
   "language": "python",
   "name": "p38"
  },
  "language_info": {
   "codemirror_mode": {
    "name": "ipython",
    "version": 3
   },
   "file_extension": ".py",
   "mimetype": "text/x-python",
   "name": "python",
   "nbconvert_exporter": "python",
   "pygments_lexer": "ipython3",
   "version": "3.8.3"
  }
 },
 "nbformat": 4,
 "nbformat_minor": 2
}
