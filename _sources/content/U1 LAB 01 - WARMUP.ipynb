{
 "cells": [
  {
   "cell_type": "markdown",
   "metadata": {},
   "source": [
    "# LAB 01.01 - WARM UP"
   ]
  },
  {
   "cell_type": "code",
   "execution_count": 1,
   "metadata": {},
   "outputs": [],
   "source": [
    "!wget -nc --no-cache -O init.py -q https://raw.githubusercontent.com/rramosp/2021.deeplearning/main/content/init.py\n",
    "import init; init.init(force_download=False); init.get_weblink()"
   ]
  },
  {
   "cell_type": "code",
   "execution_count": 218,
   "metadata": {},
   "outputs": [],
   "source": [
    "from local.lib.rlxmoocapi import submit, session\n",
    "import inspect\n",
    "session.LoginSequence(endpoint=init.endpoint, course_id=init.course_id, lab_id=\"L01.01\", varname=\"student\");"
   ]
  },
  {
   "cell_type": "markdown",
   "metadata": {},
   "source": [
    "## Task 1: An operation with matrices\n",
    "\n",
    "Given the following matrices and vectors:\n",
    "\n",
    "- $X \\in \\mathbb{R}^{m\\times n}$\n",
    "- $y \\in \\mathbb{R}^m$\n",
    "- $W \\in \\mathbb{R}^{n\\times 1}$\n",
    "- $b \\in \\mathbb{R}$\n",
    "\n",
    "Complete the following function so that it computes the following value:\n",
    "\n",
    "$$\\text{mean}\\bigg(\\big(\\text{relu}(X \\times W + b) - y\\big)^2\\bigg)$$\n",
    "\n",
    "observe that:\n",
    "\n",
    "- $X\\times W \\in \\mathbb{R}^m$ and $b \\in \\mathbb{R}$, so $b$ gets added (_broadcasted_) to all elements of $X \\times W$\n",
    "- $\\text{mean}$ is the mean of the elements of an vector with $m$ elements.\n",
    "- The result is a number $\\in \\mathbb{R}$\n",
    "- $\\text{relu}(z)=\\text{max}(0,z)$ is a function $\\mathbb{R}\\rightarrow\\mathbb{R}$ that when applied to a vector is also **broadcasted** (applied individually to each element of the vector)\n",
    "\n",
    "**CHALLENGE**: Solve it with a single line of Python code (not counting the `relu` function definition)."
   ]
  },
  {
   "cell_type": "code",
   "execution_count": 106,
   "metadata": {},
   "outputs": [],
   "source": [
    "import numpy as np\n",
    "\n",
    "def operation(X,y,W,b):\n",
    "    relu = lambda x: x*(x>0)\n",
    "    return ... # YOUR CODE HERE"
   ]
  },
  {
   "cell_type": "markdown",
   "metadata": {},
   "source": [
    "test your code with the following case, which should result in `0.15848`"
   ]
  },
  {
   "cell_type": "code",
   "execution_count": 108,
   "metadata": {},
   "outputs": [],
   "source": [
    "X = np.array([[-0.09348275, -0.17182042, -0.29143506],\n",
    "              [ 0.34581753,  0.37816707,  0.39850916],\n",
    "              [ 0.23478876, -0.07832256,  0.10793716],\n",
    "              [-0.1746856 , -0.10240038, -0.27959607]])\n",
    "\n",
    "y = np.array([[-0.47312685],\n",
    "              [ 0.42086142],\n",
    "              [ 0.44194868],\n",
    "              [ 0.46536898]])\n",
    "W = np.array([[0.12650597],\n",
    "              [0.49952987],\n",
    "              [0.34470552]])\n",
    "\n",
    "b = -0.02"
   ]
  },
  {
   "cell_type": "code",
   "execution_count": 109,
   "metadata": {},
   "outputs": [],
   "source": [
    "operation(X,y,W,b)"
   ]
  },
  {
   "cell_type": "markdown",
   "metadata": {},
   "source": [
    "test your code with random input values. This is actually what the **automatic grader** does"
   ]
  },
  {
   "cell_type": "code",
   "execution_count": 110,
   "metadata": {},
   "outputs": [],
   "source": [
    "m,n = np.random.randint(5, size=2)+2\n",
    "X = np.random.random(size=(m,n))-0.5\n",
    "W = np.random.random(size=(n,1))-0.5\n",
    "b = np.random.random()-0.5\n",
    "y = np.random.random(size=n)-0.5\n",
    "print (\"X=\\n\", X)\n",
    "print (\"y=\\n\", y)\n",
    "print (\"W=\\n\", W)\n",
    "print (\"b=\\n\", b)\n",
    "print (\"an_operation=\", operation(X,y,W,b))"
   ]
  },
  {
   "cell_type": "markdown",
   "metadata": {},
   "source": [
    "**Submit your solution**"
   ]
  },
  {
   "cell_type": "code",
   "execution_count": 220,
   "metadata": {},
   "outputs": [],
   "source": [
    "student.submit_task(namespace=globals(), task_id='T1');"
   ]
  },
  {
   "cell_type": "markdown",
   "metadata": {},
   "source": [
    "## Task 2: Function `argmax`\n",
    "\n",
    "Complete the following function such that when, given as argument a function `f(x)` with $x\\in\\mathbb{R}$, returns the value of $x$ which maximizes `f(x)`. If there is more than one value that maximizes the function, just return any one of those. \n",
    "\n",
    "Your return value must be exact up to 1 decimal position, and must be a number of type `float` (not a `numpy` array or any other type of object)\n",
    "\n",
    "**HINT**: Use [`scipy.optimize.minimize`](https://docs.scipy.org/doc/scipy/reference/generated/scipy.optimize.minimize.html) with the `BFGS` method, with a `lambda` function.\n",
    "\n",
    "**CHALLENGE**: Solve it with one single line of code (not counting the `import`)"
   ]
  },
  {
   "cell_type": "code",
   "execution_count": 173,
   "metadata": {},
   "outputs": [],
   "source": [
    "def argmax(f):\n",
    "    from scipy.optimize import minimize\n",
    "    return ..."
   ]
  },
  {
   "cell_type": "markdown",
   "metadata": {},
   "source": [
    "Test your code, the following two functions must have their max on `x=1` and `x=-2` approx."
   ]
  },
  {
   "cell_type": "code",
   "execution_count": 175,
   "metadata": {},
   "outputs": [],
   "source": [
    "def A(x):\n",
    "    return -(x-1)**2\n",
    "\n",
    "B = lambda x: -(x+2)**4"
   ]
  },
  {
   "cell_type": "code",
   "execution_count": 176,
   "metadata": {},
   "outputs": [],
   "source": [
    "import matplotlib.pyplot as plt\n",
    "%matplotlib inline\n",
    "\n",
    "x = np.linspace(-6,4, 100)\n",
    "plt.figure(figsize=(10,2))\n",
    "plt.subplot(121); plt.plot(x, A(x)); plt.title(\"A(X)\")\n",
    "plt.subplot(122); plt.plot(x, B(x)); plt.title(\"B(X)\")"
   ]
  },
  {
   "cell_type": "code",
   "execution_count": 177,
   "metadata": {},
   "outputs": [],
   "source": [
    "argmax(A), argmax(B)"
   ]
  },
  {
   "cell_type": "code",
   "execution_count": null,
   "metadata": {},
   "outputs": [],
   "source": []
  },
  {
   "cell_type": "markdown",
   "metadata": {},
   "source": [
    "**Submit your solution**"
   ]
  },
  {
   "cell_type": "code",
   "execution_count": 219,
   "metadata": {},
   "outputs": [],
   "source": [
    "student.submit_task(namespace=globals(), task_id='T2');"
   ]
  },
  {
   "cell_type": "code",
   "execution_count": null,
   "metadata": {},
   "outputs": [],
   "source": []
  },
  {
   "cell_type": "code",
   "execution_count": null,
   "metadata": {},
   "outputs": [],
   "source": []
  },
  {
   "cell_type": "code",
   "execution_count": null,
   "metadata": {},
   "outputs": [],
   "source": []
  }
 ],
 "metadata": {
  "kernelspec": {
   "display_name": "Python 3",
   "language": "python",
   "name": "python3"
  },
  "language_info": {
   "codemirror_mode": {
    "name": "ipython",
    "version": 3
   },
   "file_extension": ".py",
   "mimetype": "text/x-python",
   "name": "python",
   "nbconvert_exporter": "python",
   "pygments_lexer": "ipython3",
   "version": "3.7.6"
  },
  "varInspector": {
   "cols": {
    "lenName": 16,
    "lenType": 16,
    "lenVar": 40
   },
   "kernels_config": {
    "python": {
     "delete_cmd_postfix": "",
     "delete_cmd_prefix": "del ",
     "library": "var_list.py",
     "varRefreshCmd": "print(var_dic_list())"
    },
    "r": {
     "delete_cmd_postfix": ") ",
     "delete_cmd_prefix": "rm(",
     "library": "var_list.r",
     "varRefreshCmd": "cat(var_dic_list()) "
    }
   },
   "types_to_exclude": [
    "module",
    "function",
    "builtin_function_or_method",
    "instance",
    "_Feature"
   ],
   "window_display": false
  }
 },
 "nbformat": 4,
 "nbformat_minor": 4
}
